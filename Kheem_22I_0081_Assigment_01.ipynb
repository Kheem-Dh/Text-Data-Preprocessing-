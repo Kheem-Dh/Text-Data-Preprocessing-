{
 "cells": [
  {
   "cell_type": "markdown",
   "id": "8c361a8e",
   "metadata": {},
   "source": [
    "# Assignment 01\n",
    "## Tasks \n",
    "#### 1. convert the complete text to lower case.\n",
    "#### 2. remove all the stop words.\n",
    "#### 3. Apply POS tagging on the whole text\n",
    "#### 4. Lemmatize the most frequently occurring 5 adjectives\n",
    "#### 5. Stem the least frequently occurring 5 verbs.\n",
    "#### 6. Show the concordance for a word of your choice.\n",
    "#### 7. Draw the dispersion plot for 2 frequently occurring terms in the document."
   ]
  },
  {
   "cell_type": "code",
   "execution_count": 31,
   "id": "a67dbe22",
   "metadata": {},
   "outputs": [],
   "source": [
    "# Import Libraries\n",
    "import nltk\n",
    "from nltk.corpus import stopwords\n",
    "from nltk.stem.porter import PorterStemmer\n",
    "from nltk import FreqDist # counting the word occurrence using FreqDist library\n",
    "from nltk.stem import WordNetLemmatizer #is based on The Porter Stemming Algorithm"
   ]
  },
  {
   "cell_type": "code",
   "execution_count": 32,
   "id": "6ecd1bea",
   "metadata": {},
   "outputs": [
    {
     "name": "stdout",
     "output_type": "stream",
     "text": [
      "Khem Singh Bedi was born in Kallar Syedan in the Rawalpindi District in 1832. He claimed to be the thirteenth direct descendant of Guru Nanak Dev, the founder of Sikhism.[3] His father Baba Attar Singh was killed in a family feud on 25 November 1839 and Bedi and his elder brother Sampuran Singh inherited jagirs in the Doaba region along with 41 villages in Depalpur Tehsil. Bedi held his jagirs in 4 villages of Dipalpur tahsil, while his elder brother was given jagirs in 22 villages of the same tahsil.[4] Following the annexation of the Punjab by the East India Company in 1849, 14 of those villages were appropriated by the new administration.[5]\n",
      "\n",
      "In 1855, the Punjab administration established the Department of Public Instruction with the aim to open 30 single-teacher primary schools across the Punjab. Bedi lent his full support to the scheme, additionally opening his own schools in Rawalpindi. At least fifty schools for boys and girls were opened in the Punjab with his assistance.[5]\n",
      "\n",
      "During the Indian Mutiny of 1857, Bedi helped British troops quell an uprising in Gugera.[4][5] He distinguished himself in a cavalry charge on 21 September 1857, and the following day narrowly escaped an ambush which killed the Extra Assistant Commissioner of Gogera, Leopold Fitzhardinge Berkeley. Following the rebellion, he was given a robe of honour and a double barrelled rifle.[5]\n",
      "\n",
      "On 1 October 1873 he co-founded the Singh Sabha Movement in response to growing Christian, Islam, Arya Samaj and Brahmo Samaj proselytising in the Punjab region. They campaigned for an inclusive interpretation that accepted wide range of beliefs drawn from Hinduism and Islam.[1]\n",
      "\n",
      "Bedi was a Sanatan Sikh (lit. \"Traditional Sikh\"),[6] who maintained that \"there were no essential differences between Sikhs and Hindus\". Instead of treating the scripture as the only guru, Sanatan Sikh campaigned for acceptability of living gurus to guide those Sikhs who seek one which resulted in Khem Singh Bedi considering himself the Guru.[7] The main text of the Sanatan Sikh was Dasam Granth created in 19th century.[8] The dispute intensified and by the early decades of the 20th century, the influence of panth was given to Tat Khalsa (\"pure, true Khalsa\")[9] resulting in the decline of Sanatan Sikhs.[1][7][10]\n",
      "\n",
      "He was appointed a magistrate in 1877 and made a Companion of the Indian Empire in 1879. On the occasion of his daughter's marriage in 1893, he donated Rs 3,00,000 for religious and charitable purposes. He was nominated to the Imperial Legislative Council in 1893 and became a Knight Commander of the Indian Empire in 1898.[3] Throughout his life he added to the land he inherited to become a substantial landholder in the Punjab. Towards the end of his life, his land possessions in the Montgomery District alone amounted to 28,272 acres.[5] He died in Montgomery on 10 April 1905.\n"
     ]
    }
   ],
   "source": [
    "# Reading Text File \n",
    "data = open(\"KhemSinghBedi.txt\", \"r\")\n",
    "corpus = data.read()\n",
    "print(corpus)"
   ]
  },
  {
   "cell_type": "markdown",
   "id": "f7e45496",
   "metadata": {},
   "source": [
    "### 1. convert the complete text to lower case."
   ]
  },
  {
   "cell_type": "code",
   "execution_count": 33,
   "id": "571133cb",
   "metadata": {},
   "outputs": [
    {
     "name": "stdout",
     "output_type": "stream",
     "text": [
      "khem singh bedi was born in kallar syedan in the rawalpindi district in 1832. he claimed to be the thirteenth direct descendant of guru nanak dev, the founder of sikhism.[3] his father baba attar singh was killed in a family feud on 25 november 1839 and bedi and his elder brother sampuran singh inherited jagirs in the doaba region along with 41 villages in depalpur tehsil. bedi held his jagirs in 4 villages of dipalpur tahsil, while his elder brother was given jagirs in 22 villages of the same tahsil.[4] following the annexation of the punjab by the east india company in 1849, 14 of those villages were appropriated by the new administration.[5]\n",
      "\n",
      "in 1855, the punjab administration established the department of public instruction with the aim to open 30 single-teacher primary schools across the punjab. bedi lent his full support to the scheme, additionally opening his own schools in rawalpindi. at least fifty schools for boys and girls were opened in the punjab with his assistance.[5]\n",
      "\n",
      "during the indian mutiny of 1857, bedi helped british troops quell an uprising in gugera.[4][5] he distinguished himself in a cavalry charge on 21 september 1857, and the following day narrowly escaped an ambush which killed the extra assistant commissioner of gogera, leopold fitzhardinge berkeley. following the rebellion, he was given a robe of honour and a double barrelled rifle.[5]\n",
      "\n",
      "on 1 october 1873 he co-founded the singh sabha movement in response to growing christian, islam, arya samaj and brahmo samaj proselytising in the punjab region. they campaigned for an inclusive interpretation that accepted wide range of beliefs drawn from hinduism and islam.[1]\n",
      "\n",
      "bedi was a sanatan sikh (lit. \"traditional sikh\"),[6] who maintained that \"there were no essential differences between sikhs and hindus\". instead of treating the scripture as the only guru, sanatan sikh campaigned for acceptability of living gurus to guide those sikhs who seek one which resulted in khem singh bedi considering himself the guru.[7] the main text of the sanatan sikh was dasam granth created in 19th century.[8] the dispute intensified and by the early decades of the 20th century, the influence of panth was given to tat khalsa (\"pure, true khalsa\")[9] resulting in the decline of sanatan sikhs.[1][7][10]\n",
      "\n",
      "he was appointed a magistrate in 1877 and made a companion of the indian empire in 1879. on the occasion of his daughter's marriage in 1893, he donated rs 3,00,000 for religious and charitable purposes. he was nominated to the imperial legislative council in 1893 and became a knight commander of the indian empire in 1898.[3] throughout his life he added to the land he inherited to become a substantial landholder in the punjab. towards the end of his life, his land possessions in the montgomery district alone amounted to 28,272 acres.[5] he died in montgomery on 10 april 1905.\n"
     ]
    }
   ],
   "source": [
    "lower_text = corpus.lower()\n",
    "print (lower_text)"
   ]
  },
  {
   "cell_type": "markdown",
   "id": "73e61929",
   "metadata": {},
   "source": [
    "### 2. remove all the stop words."
   ]
  },
  {
   "cell_type": "code",
   "execution_count": 34,
   "id": "dfbd6c1b",
   "metadata": {},
   "outputs": [
    {
     "name": "stdout",
     "output_type": "stream",
     "text": [
      "['khem', 'singh', 'bedi', 'born', 'kallar', 'syedan', 'rawalpindi', 'district', '1832.', 'claimed', 'thirteenth', 'direct', 'descendant', 'guru', 'nanak', 'dev', ',', 'founder', 'sikhism', '.', '[', '3', ']', 'father', 'baba', 'attar', 'singh', 'killed', 'family', 'feud', '25', 'november', '1839', 'bedi', 'elder', 'brother', 'sampuran', 'singh', 'inherited', 'jagirs', 'doaba', 'region', 'along', '41', 'villages', 'depalpur', 'tehsil', '.', 'bedi', 'held', 'jagirs', '4', 'villages', 'dipalpur', 'tahsil', ',', 'elder', 'brother', 'given', 'jagirs', '22', 'villages', 'tahsil', '.', '[', '4', ']', 'following', 'annexation', 'punjab', 'east', 'india', 'company', '1849', ',', '14', 'villages', 'appropriated', 'new', 'administration', '.', '[', '5', ']', '1855', ',', 'punjab', 'administration', 'established', 'department', 'public', 'instruction', 'aim', 'open', '30', 'single-teacher', 'primary', 'schools', 'across', 'punjab', '.', 'bedi', 'lent', 'full', 'support', 'scheme', ',', 'additionally', 'opening', 'schools', 'rawalpindi', '.', 'least', 'fifty', 'schools', 'boys', 'girls', 'opened', 'punjab', 'assistance', '.', '[', '5', ']', 'indian', 'mutiny', '1857', ',', 'bedi', 'helped', 'british', 'troops', 'quell', 'uprising', 'gugera', '.', '[', '4', ']', '[', '5', ']', 'distinguished', 'cavalry', 'charge', '21', 'september', '1857', ',', 'following', 'day', 'narrowly', 'escaped', 'ambush', 'killed', 'extra', 'assistant', 'commissioner', 'gogera', ',', 'leopold', 'fitzhardinge', 'berkeley', '.', 'following', 'rebellion', ',', 'given', 'robe', 'honour', 'double', 'barrelled', 'rifle', '.', '[', '5', ']', '1', 'october', '1873', 'co-founded', 'singh', 'sabha', 'movement', 'response', 'growing', 'christian', ',', 'islam', ',', 'arya', 'samaj', 'brahmo', 'samaj', 'proselytising', 'punjab', 'region', '.', 'campaigned', 'inclusive', 'interpretation', 'accepted', 'wide', 'range', 'beliefs', 'drawn', 'hinduism', 'islam', '.', '[', '1', ']', 'bedi', 'sanatan', 'sikh', '(', 'lit', '.', '``', 'traditional', 'sikh', \"''\", ')', ',', '[', '6', ']', 'maintained', '``', 'essential', 'differences', 'sikhs', 'hindus', \"''\", '.', 'instead', 'treating', 'scripture', 'guru', ',', 'sanatan', 'sikh', 'campaigned', 'acceptability', 'living', 'gurus', 'guide', 'sikhs', 'seek', 'one', 'resulted', 'khem', 'singh', 'bedi', 'considering', 'guru', '.', '[', '7', ']', 'main', 'text', 'sanatan', 'sikh', 'dasam', 'granth', 'created', '19th', 'century', '.', '[', '8', ']', 'dispute', 'intensified', 'early', 'decades', '20th', 'century', ',', 'influence', 'panth', 'given', 'tat', 'khalsa', '(', '``', 'pure', ',', 'true', 'khalsa', \"''\", ')', '[', '9', ']', 'resulting', 'decline', 'sanatan', 'sikhs', '.', '[', '1', ']', '[', '7', ']', '[', '10', ']', 'appointed', 'magistrate', '1877', 'made', 'companion', 'indian', 'empire', '1879.', 'occasion', 'daughter', \"'s\", 'marriage', '1893', ',', 'donated', 'rs', '3,00,000', 'religious', 'charitable', 'purposes', '.', 'nominated', 'imperial', 'legislative', 'council', '1893', 'became', 'knight', 'commander', 'indian', 'empire', '1898', '.', '[', '3', ']', 'throughout', 'life', 'added', 'land', 'inherited', 'become', 'substantial', 'landholder', 'punjab', '.', 'towards', 'end', 'life', ',', 'land', 'possessions', 'montgomery', 'district', 'alone', 'amounted', '28,272', 'acres', '.', '[', '5', ']', 'died', 'montgomery', '10', 'april', '1905', '.']\n"
     ]
    },
    {
     "name": "stderr",
     "output_type": "stream",
     "text": [
      "[nltk_data] Downloading package stopwords to\n",
      "[nltk_data]     C:\\Users\\KHEEM\\AppData\\Roaming\\nltk_data...\n",
      "[nltk_data]   Package stopwords is already up-to-date!\n"
     ]
    }
   ],
   "source": [
    "## Filtering Stop Words\n",
    "nltk.download(\"stopwords\") #download stopwords corpus from NLTK\n",
    "stop_words = set(stopwords.words(\"english\")) # setting ENGLISH as dictionary for stop words\n",
    "word_tokens = nltk.word_tokenize(lower_text) # word tokenziation\n",
    "removing_stopwords = [word for word in word_tokens if word not in stop_words]\n",
    "print (removing_stopwords)"
   ]
  },
  {
   "cell_type": "markdown",
   "id": "4b8c8bd4",
   "metadata": {},
   "source": [
    "### 3. Apply POS tagging on the whole text"
   ]
  },
  {
   "cell_type": "code",
   "execution_count": 35,
   "id": "af12bfbc",
   "metadata": {},
   "outputs": [
    {
     "name": "stdout",
     "output_type": "stream",
     "text": [
      "[('khem', 'NN'), ('singh', 'NN'), ('bedi', 'NN'), ('born', 'VBN'), ('kallar', 'JJ'), ('syedan', 'NN'), ('rawalpindi', 'NN'), ('district', 'NN'), ('1832.', 'CD'), ('claimed', 'VBD'), ('thirteenth', 'JJ'), ('direct', 'JJ'), ('descendant', 'NN'), ('guru', 'NN'), ('nanak', 'NN'), ('dev', 'NN'), (',', ','), ('founder', 'NN'), ('sikhism', 'NN'), ('.', '.'), ('[', 'CC'), ('3', 'CD'), (']', 'NN'), ('father', 'NN'), ('baba', 'NN'), ('attar', 'NN'), ('singh', 'NN'), ('killed', 'VBD'), ('family', 'NN'), ('feud', 'NN'), ('25', 'CD'), ('november', 'NN'), ('1839', 'CD'), ('bedi', 'NN'), ('elder', 'NN'), ('brother', 'NN'), ('sampuran', 'VBD'), ('singh', 'RB'), ('inherited', 'VBN'), ('jagirs', 'NNS'), ('doaba', 'JJ'), ('region', 'NN'), ('along', 'IN'), ('41', 'CD'), ('villages', 'NNS'), ('depalpur', 'JJ'), ('tehsil', 'NN'), ('.', '.'), ('bedi', 'JJ'), ('held', 'VBD'), ('jagirs', 'NNS'), ('4', 'CD'), ('villages', 'NNS'), ('dipalpur', 'JJ'), ('tahsil', 'NN'), (',', ','), ('elder', 'VB'), ('brother', 'NN'), ('given', 'VBN'), ('jagirs', 'NNS'), ('22', 'CD'), ('villages', 'NNS'), ('tahsil', 'RB'), ('.', '.'), ('[', 'VB'), ('4', 'CD'), (']', 'NN'), ('following', 'VBG'), ('annexation', 'NN'), ('punjab', 'IN'), ('east', 'JJ'), ('india', 'NN'), ('company', 'NN'), ('1849', 'CD'), (',', ','), ('14', 'CD'), ('villages', 'NNS'), ('appropriated', 'VBD'), ('new', 'JJ'), ('administration', 'NN'), ('.', '.'), ('[', 'CC'), ('5', 'CD'), (']', 'NN'), ('1855', 'CD'), (',', ','), ('punjab', 'JJ'), ('administration', 'NN'), ('established', 'VBN'), ('department', 'NN'), ('public', 'JJ'), ('instruction', 'NN'), ('aim', 'NN'), ('open', 'JJ'), ('30', 'CD'), ('single-teacher', 'JJ'), ('primary', 'JJ'), ('schools', 'NNS'), ('across', 'IN'), ('punjab', 'NN'), ('.', '.'), ('bedi', 'VB'), ('lent', 'JJ'), ('full', 'JJ'), ('support', 'NN'), ('scheme', 'NN'), (',', ','), ('additionally', 'RB'), ('opening', 'VBG'), ('schools', 'NNS'), ('rawalpindi', 'NN'), ('.', '.'), ('least', 'JJS'), ('fifty', 'JJ'), ('schools', 'NNS'), ('boys', 'VBZ'), ('girls', 'NNS'), ('opened', 'VBD'), ('punjab', 'JJ'), ('assistance', 'NN'), ('.', '.'), ('[', 'CC'), ('5', 'CD'), (']', 'JJ'), ('indian', 'JJ'), ('mutiny', 'NN'), ('1857', 'CD'), (',', ','), ('bedi', 'NN'), ('helped', 'VBD'), ('british', 'JJ'), ('troops', 'NNS'), ('quell', 'VBP'), ('uprising', 'JJ'), ('gugera', 'NN'), ('.', '.'), ('[', 'CC'), ('4', 'CD'), (']', 'JJ'), ('[', '$'), ('5', 'CD'), (']', 'NNP'), ('distinguished', 'VBD'), ('cavalry', 'JJ'), ('charge', 'NN'), ('21', 'CD'), ('september', 'NN'), ('1857', 'CD'), (',', ','), ('following', 'VBG'), ('day', 'NN'), ('narrowly', 'RB'), ('escaped', 'VBD'), ('ambush', 'NN'), ('killed', 'VBN'), ('extra', 'JJ'), ('assistant', 'NN'), ('commissioner', 'NN'), ('gogera', 'NN'), (',', ','), ('leopold', 'JJ'), ('fitzhardinge', 'NN'), ('berkeley', 'NN'), ('.', '.'), ('following', 'VBG'), ('rebellion', 'NN'), (',', ','), ('given', 'VBN'), ('robe', 'VBP'), ('honour', 'RBR'), ('double', 'JJ'), ('barrelled', 'VBN'), ('rifle', 'NN'), ('.', '.'), ('[', 'CC'), ('5', 'CD'), (']', 'JJ'), ('1', 'CD'), ('october', 'JJ'), ('1873', 'CD'), ('co-founded', 'JJ'), ('singh', 'NN'), ('sabha', 'JJ'), ('movement', 'NN'), ('response', 'NN'), ('growing', 'VBG'), ('christian', 'JJ'), (',', ','), ('islam', 'JJ'), (',', ','), ('arya', 'JJ'), ('samaj', 'NN'), ('brahmo', 'NN'), ('samaj', 'NN'), ('proselytising', 'VBG'), ('punjab', 'JJ'), ('region', 'NN'), ('.', '.'), ('campaigned', 'VBN'), ('inclusive', 'JJ'), ('interpretation', 'NN'), ('accepted', 'VBD'), ('wide', 'JJ'), ('range', 'NN'), ('beliefs', 'NNS'), ('drawn', 'VBP'), ('hinduism', 'NN'), ('islam', 'NN'), ('.', '.'), ('[', 'CC'), ('1', 'CD'), (']', 'JJ'), ('bedi', 'NN'), ('sanatan', 'NN'), ('sikh', 'NN'), ('(', '('), ('lit', 'NN'), ('.', '.'), ('``', '``'), ('traditional', 'JJ'), ('sikh', 'NN'), (\"''\", \"''\"), (')', ')'), (',', ','), ('[', '$'), ('6', 'CD'), (']', 'NNP'), ('maintained', 'VBD'), ('``', '``'), ('essential', 'JJ'), ('differences', 'NNS'), ('sikhs', 'VBP'), ('hindus', 'NN'), (\"''\", \"''\"), ('.', '.'), ('instead', 'RB'), ('treating', 'VBG'), ('scripture', 'NN'), ('guru', 'NN'), (',', ','), ('sanatan', 'JJ'), ('sikh', 'NN'), ('campaigned', 'VBD'), ('acceptability', 'NN'), ('living', 'VBG'), ('gurus', 'NNS'), ('guide', 'JJ'), ('sikhs', 'JJ'), ('seek', 'NN'), ('one', 'CD'), ('resulted', 'VBD'), ('khem', 'NN'), ('singh', 'NN'), ('bedi', 'NN'), ('considering', 'VBG'), ('guru', 'NN'), ('.', '.'), ('[', 'CC'), ('7', 'CD'), (']', 'NN'), ('main', 'JJ'), ('text', 'NN'), ('sanatan', 'NN'), ('sikh', 'NN'), ('dasam', 'NN'), ('granth', 'NN'), ('created', 'VBD'), ('19th', 'CD'), ('century', 'NN'), ('.', '.'), ('[', 'CC'), ('8', 'CD'), (']', 'JJ'), ('dispute', 'NN'), ('intensified', 'VBD'), ('early', 'JJ'), ('decades', 'NNS'), ('20th', 'JJ'), ('century', 'NN'), (',', ','), ('influence', 'NN'), ('panth', 'NN'), ('given', 'VBN'), ('tat', 'JJ'), ('khalsa', 'NN'), ('(', '('), ('``', '``'), ('pure', 'NN'), (',', ','), ('true', 'JJ'), ('khalsa', 'NN'), (\"''\", \"''\"), (')', ')'), ('[', 'VBD'), ('9', 'CD'), (']', 'NNS'), ('resulting', 'VBG'), ('decline', 'NN'), ('sanatan', 'NN'), ('sikhs', 'NN'), ('.', '.'), ('[', 'CC'), ('1', 'CD'), (']', 'JJ'), ('[', '$'), ('7', 'CD'), (']', 'NNP'), ('[', 'VBD'), ('10', 'CD'), (']', 'NN'), ('appointed', 'VBN'), ('magistrate', 'NN'), ('1877', 'CD'), ('made', 'VBD'), ('companion', 'NN'), ('indian', 'JJ'), ('empire', 'NN'), ('1879.', 'CD'), ('occasion', 'NN'), ('daughter', 'NN'), (\"'s\", 'POS'), ('marriage', 'NN'), ('1893', 'CD'), (',', ','), ('donated', 'VBD'), ('rs', 'JJ'), ('3,00,000', 'CD'), ('religious', 'JJ'), ('charitable', 'JJ'), ('purposes', 'NNS'), ('.', '.'), ('nominated', 'VBN'), ('imperial', 'JJ'), ('legislative', 'JJ'), ('council', 'NN'), ('1893', 'CD'), ('became', 'VBD'), ('knight', 'JJ'), ('commander', 'NN'), ('indian', 'JJ'), ('empire', 'NN'), ('1898', 'CD'), ('.', '.'), ('[', 'VB'), ('3', 'CD'), (']', 'NN'), ('throughout', 'IN'), ('life', 'NN'), ('added', 'VBD'), ('land', 'NN'), ('inherited', 'VBN'), ('become', 'VBP'), ('substantial', 'JJ'), ('landholder', 'NN'), ('punjab', 'NN'), ('.', '.'), ('towards', 'NNS'), ('end', 'VBP'), ('life', 'NN'), (',', ','), ('land', 'NN'), ('possessions', 'NNS'), ('montgomery', 'VBP'), ('district', 'NN'), ('alone', 'RB'), ('amounted', 'VBD'), ('28,272', 'CD'), ('acres', 'NNS'), ('.', '.'), ('[', '$'), ('5', 'CD'), (']', 'NNP'), ('died', 'VBD'), ('montgomery', 'RB'), ('10', 'CD'), ('april', 'JJ'), ('1905', 'CD'), ('.', '.')]\n"
     ]
    }
   ],
   "source": [
    "pos_tag = nltk.pos_tag(removing_stopwords)\n",
    "print (pos_tag)"
   ]
  },
  {
   "cell_type": "markdown",
   "id": "258ab21b",
   "metadata": {},
   "source": [
    "### 4. Lemmatize the most frequently occurring 5 adjectives"
   ]
  },
  {
   "cell_type": "code",
   "execution_count": 37,
   "id": "c7da46d7",
   "metadata": {},
   "outputs": [
    {
     "name": "stdout",
     "output_type": "stream",
     "text": [
      "Counter({'NN': 110, 'JJ': 48, 'CD': 26, 'VBD': 25, 'NNS': 22, 'VBN': 10, 'VBP': 10, 'VBG': 10, 'RB': 8, 'IN': 4, 'JJS': 1, 'VBZ': 1, 'VB': 1, 'RBR': 1})\n",
      "['indian', 'punjab', 'kallar', 'thirteenth', 'direct', 'nanak']\n",
      "Stemming for indian is indian\n",
      "Stemming for punjab is punjab\n",
      "Stemming for kallar is kallar\n",
      "Stemming for thirteenth is thirteenth\n",
      "Stemming for direct is direct\n",
      "Stemming for nanak is nanak\n"
     ]
    }
   ],
   "source": [
    "# removing punctuations \n",
    "import string\n",
    "from nltk import word_tokenize\n",
    "from collections import Counter\n",
    "text_punc = \"\".join([char for char in lower_text if char not in string.punctuation])\n",
    "wordss = word_tokenize(text_punc)\n",
    "filtered_text = [word for word in wordss if word not in stop_words]\n",
    "POS_punc =  nltk.pos_tag(filtered_text)\n",
    "fdist = nltk.FreqDist(POS_punc)\n",
    "counts = Counter( tag for word,  tag in POS_punc)\n",
    "print(counts)\n",
    "aa = [wt[0] for (wt, _) in fdist.most_common() if wt[1] == 'JJ']\n",
    "mostADJ = print(aa[0:6])\n",
    "\n",
    "porter_stemmer  = PorterStemmer()\n",
    "text = \"indian punjab kallar thirteenth direct nanak\"\n",
    "tokenization = nltk.word_tokenize(text)\n",
    "for w in tokenization:\n",
    "    print(\"Stemming for {} is {}\".format(w,porter_stemmer.stem(w)))"
   ]
  },
  {
   "cell_type": "markdown",
   "id": "9e288efd",
   "metadata": {},
   "source": [
    "### 5. Stem the least frequently occurring 5 verbs."
   ]
  },
  {
   "cell_type": "code",
   "execution_count": 16,
   "id": "325c0a02",
   "metadata": {},
   "outputs": [],
   "source": [
    "count=0\n",
    "lst=[]\n",
    "#Sorting the tags on the basis of there counts and taking only first 5 tags least occured words which are verbs\n",
    "for i in sorted(pos_tag,key=pos_tag.count):\n",
    "    if i[1] == 'VBD':\n",
    "        if i[0] not in lst:\n",
    "            lst.append(i[0])\n",
    "            count+=1\n",
    "    if count == 5:\n",
    "        break"
   ]
  },
  {
   "cell_type": "code",
   "execution_count": 17,
   "id": "7b2ea2ba",
   "metadata": {},
   "outputs": [
    {
     "data": {
      "text/plain": [
       "['claimed', 'killed', 'sampuran', 'held', 'appropriated']"
      ]
     },
     "execution_count": 17,
     "metadata": {},
     "output_type": "execute_result"
    }
   ],
   "source": [
    "# Top 5 tags\n",
    "lst"
   ]
  },
  {
   "cell_type": "code",
   "execution_count": 38,
   "id": "d38141fd",
   "metadata": {},
   "outputs": [
    {
     "name": "stdout",
     "output_type": "stream",
     "text": [
      "Stemming for claimed is  \u001b[1mclaim\u001b[0;0m\n",
      "Stemming for killed is  \u001b[1mkill\u001b[0;0m\n",
      "Stemming for sampuran is  \u001b[1msampuran\u001b[0;0m\n",
      "Stemming for held is  \u001b[1mheld\u001b[0;0m\n",
      "Stemming for appropriated is  \u001b[1mappropri\u001b[0;0m\n"
     ]
    }
   ],
   "source": [
    "porter_stemmer  = PorterStemmer()\n",
    "#Words and their Stemmed forms\n",
    "for i in lst:\n",
    "    print(\"Stemming for {} is  \\033[1m{}\\033[0;0m\".format(i,porter_stemmer.stem(i)))  "
   ]
  },
  {
   "cell_type": "markdown",
   "id": "0f3c359c",
   "metadata": {},
   "source": [
    "### 6. Show the concordance for a word of your choice."
   ]
  },
  {
   "cell_type": "code",
   "execution_count": 22,
   "id": "4b78f8d2",
   "metadata": {},
   "outputs": [
    {
     "name": "stdout",
     "output_type": "stream",
     "text": [
      "Displaying 5 of 5 matches:\n",
      "khem singh bedi was born in kallar syedan in th\n",
      "er of sikhism3 his father baba attar singh was killed in a family feud on 25 no\n",
      " bedi and his elder brother sampuran singh inherited jagirs in the doaba region\n",
      "5 on 1 october 1873 he cofounded the singh sabha movement in response to growin\n",
      " who seek one which resulted in khem singh bedi considering himself the guru7 t\n"
     ]
    }
   ],
   "source": [
    "from nltk.corpus import gutenberg\n",
    "from nltk.text import Text\n",
    "\n",
    "texts = Text(text_punc.split())\n",
    "#  concordance for a word Osama\n",
    "texts.concordance(\"singh\")"
   ]
  },
  {
   "cell_type": "markdown",
   "id": "d194778b",
   "metadata": {},
   "source": [
    "### 7. Draw the dispersion plot for 2 frequently occurring terms in the document."
   ]
  },
  {
   "cell_type": "code",
   "execution_count": 23,
   "id": "04d31100",
   "metadata": {},
   "outputs": [],
   "source": [
    "lst2=[]\n",
    "c=0\n",
    "# Getting Top 2 most Frequently occuring words\n",
    "for i in sorted(pos_tag,key=pos_tag.count,reverse=True):\n",
    "    if i[0] not in ',,.;:/[!@#$%^&*():\"\"]':\n",
    "        if i[0] not in lst2:\n",
    "            lst2.append(i[0])\n",
    "            c+=1\n",
    "            if c==2:\n",
    "                break"
   ]
  },
  {
   "cell_type": "code",
   "execution_count": 27,
   "id": "75a04b83",
   "metadata": {},
   "outputs": [
    {
     "data": {
      "image/png": "[encoded data removed]",
      "text/plain": [
       "<Figure size 720x432 with 1 Axes>"
      ]
     },
     "metadata": {
      "needs_background": "light"
     },
     "output_type": "display_data"
    }
   ],
   "source": [
    "from nltk.draw.dispersion import dispersion_plot\n",
    "import matplotlib.pyplot as plt\n",
    "# the following command can be used to increase the size of the plot using width and hight specifications\n",
    "\n",
    "# Dispersion Plot\n",
    "plt.figure(figsize=(10, 6))\n",
    "targets=lst2\n",
    "dispersion_plot(text_punc.split(), targets, ignore_case=True, title='Dispersion Plot')"
   ]
  },
  {
   "cell_type": "code",
   "execution_count": null,
   "id": "2408f1b3",
   "metadata": {},
   "outputs": [],
   "source": []
  }
 ],
 "metadata": {
  "kernelspec": {
   "display_name": "Python 3",
   "language": "python",
   "name": "python3"
  },
  "language_info": {
   "codemirror_mode": {
    "name": "ipython",
    "version": 3
   },
   "file_extension": ".py",
   "mimetype": "text/x-python",
   "name": "python",
   "nbconvert_exporter": "python",
   "pygments_lexer": "ipython3",
   "version": "3.8.8"
  }
 },
 "nbformat": 4,
 "nbformat_minor": 5
}
